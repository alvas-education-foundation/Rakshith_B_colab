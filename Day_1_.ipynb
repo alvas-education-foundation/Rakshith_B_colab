{
  "nbformat": 4,
  "nbformat_minor": 0,
  "metadata": {
    "colab": {
      "name": "Day 1 .ipynb",
      "provenance": [],
      "authorship_tag": "ABX9TyMRdzJQJq4ibLXrxxxy3kRI",
      "include_colab_link": true
    },
    "kernelspec": {
      "name": "python3",
      "display_name": "Python 3"
    }
  },
  "cells": [
    {
      "cell_type": "markdown",
      "metadata": {
        "id": "view-in-github",
        "colab_type": "text"
      },
      "source": [
        "<a href=\"https://colab.research.google.com/github/alvas-education-foundation/Rakshith_B_colab/blob/master/Day_1_.ipynb\" target=\"_parent\"><img src=\"https://colab.research.google.com/assets/colab-badge.svg\" alt=\"Open In Colab\"/></a>"
      ]
    },
    {
      "cell_type": "code",
      "metadata": {
        "id": "1hnA6d0J62KN",
        "colab_type": "code",
        "colab": {
          "base_uri": "https://localhost:8080/",
          "height": 158
        },
        "outputId": "84a8df55-0f83-498b-d278-3efc9a0b1f58"
      },
      "source": [
        "print (\"your options are:\")\n",
        "print(\"1 for ODDorEven\")\n",
        "print(\"2 for Factorial\")\n",
        "print (\"3 for ODDNoUptoN\")\n",
        "print (\"4 for PrimeUptoN\")\n",
        "print(\" \")\n",
        "\n",
        "choice=int(input(\"enter your choice : \"))\n",
        "if choice==1:                                             # 1 for even or odd\n",
        "  num = int(input(\"Enter a number: \"))\n",
        "  if (num % 2) == 0:\n",
        "    print(\"{0} is Even\".format(num))\n",
        "  else:\n",
        "    print(\"{0} is Odd\".format(num))\n",
        "elif choice==2:                                           #factorial\n",
        "  num = int(input(\"enter the number : \"))\n",
        "  factorial = 1\n",
        "  if num>0:\n",
        "    for i in range(1,num + 1):\n",
        "      factorial = factorial*i\n",
        "      print(\"The factorial of\",num,\"is\",factorial)\n",
        "elif choice==3:                                           #odd numbers upto N\n",
        "  maximum = int(input(\" Please Enter any Maximum Value : \"))\n",
        "  for number in range(1, maximum + 1):\n",
        "    if(number % 2 != 0):\n",
        "        print(\"{0}\".format(number))\n",
        "elif choice==4:  \n",
        "  N=int(input(\"enter the number : \"))                     #prime number upto N\n",
        "  for Number in range (1, N+1):\n",
        "    count = 0\n",
        "    for i in range(2, (Number//2 + 1)):\n",
        "        if(Number % i == 0):\n",
        "            count = count + 1\n",
        "            break\n",
        "\n",
        "    if (count == 0 and Number != 1):\n",
        "        print(\" %d\" %Number, end = '  ')\n",
        "else:\n",
        "  print(\"no such options\")"
      ],
      "execution_count": null,
      "outputs": [
        {
          "output_type": "stream",
          "text": [
            "your options are:\n",
            "1 for ODDorEven\n",
            "2 for Factorial\n",
            "3 for ODDNoUptoN\n",
            "4 for PrimeUptoN\n",
            " \n"
          ],
          "name": "stdout"
        }
      ]
    },
    {
      "cell_type": "code",
      "metadata": {
        "id": "lYAaAoRa6-wv",
        "colab_type": "code",
        "colab": {}
      },
      "source": [
        ""
      ],
      "execution_count": null,
      "outputs": []
    }
  ]
}